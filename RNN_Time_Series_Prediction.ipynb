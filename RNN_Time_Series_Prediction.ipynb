{
  "nbformat": 4,
  "nbformat_minor": 0,
  "metadata": {
    "colab": {
      "name": "RNN Time Series Prediction.ipynb",
      "provenance": []
    },
    "kernelspec": {
      "name": "python3",
      "display_name": "Python 3"
    },
    "language_info": {
      "name": "python"
    }
  },
  "cells": [
    {
      "cell_type": "markdown",
      "source": [
        "Time Series Prediction with RNN"
      ],
      "metadata": {
        "id": "DxTPUF3UlAy3"
      }
    },
    {
      "cell_type": "code",
      "execution_count": 1,
      "metadata": {
        "id": "c_5nkP7fk7oe"
      },
      "outputs": [],
      "source": [
        "import keras\n",
        "import tensorflow as tf\n",
        "import numpy as np\n",
        "import pandas as pd\n",
        "import seaborn as sns\n",
        "import matplotlib.pyplot as plt\n",
        "from sklearn.preprocessing import StandardScaler\n",
        "from sklearn.model_selection import train_test_split\n"
      ]
    },
    {
      "cell_type": "markdown",
      "source": [
        "Loading and Visualizing the data"
      ],
      "metadata": {
        "id": "Bqri6_T_lkP4"
      }
    },
    {
      "cell_type": "code",
      "source": [
        "data = pd.read_csv('/content/drive/MyDrive/bicicletas.csv')\n",
        "data.head()"
      ],
      "metadata": {
        "colab": {
          "base_uri": "https://localhost:8080/",
          "height": 206
        },
        "id": "X1fdqQBnlD_-",
        "outputId": "e7c21fff-4cf8-4a07-c1c6-ba1e92bada66"
      },
      "execution_count": 2,
      "outputs": [
        {
          "output_type": "execute_result",
          "data": {
            "text/plain": [
              "                 datas  contagem  temperatura  sensacao  umidade  vel_vento  \\\n",
              "0  2015-01-04 00:00:00       182          3.0       2.0     93.0        6.0   \n",
              "1  2015-01-04 01:00:00       138          3.0       2.5     93.0        5.0   \n",
              "2  2015-01-04 02:00:00       134          2.5       2.5     96.5        0.0   \n",
              "3  2015-01-04 03:00:00        72          2.0       2.0    100.0        0.0   \n",
              "4  2015-01-04 04:00:00        47          2.0       0.0     93.0        6.5   \n",
              "\n",
              "   clima  feriado  final_ds  estacao  \n",
              "0    3.0      0.0       1.0      3.0  \n",
              "1    1.0      0.0       1.0      3.0  \n",
              "2    1.0      0.0       1.0      3.0  \n",
              "3    1.0      0.0       1.0      3.0  \n",
              "4    1.0      0.0       1.0      3.0  "
            ],
            "text/html": [
              "\n",
              "  <div id=\"df-6ea6201d-55b1-444a-8dd0-8537ae38a905\">\n",
              "    <div class=\"colab-df-container\">\n",
              "      <div>\n",
              "<style scoped>\n",
              "    .dataframe tbody tr th:only-of-type {\n",
              "        vertical-align: middle;\n",
              "    }\n",
              "\n",
              "    .dataframe tbody tr th {\n",
              "        vertical-align: top;\n",
              "    }\n",
              "\n",
              "    .dataframe thead th {\n",
              "        text-align: right;\n",
              "    }\n",
              "</style>\n",
              "<table border=\"1\" class=\"dataframe\">\n",
              "  <thead>\n",
              "    <tr style=\"text-align: right;\">\n",
              "      <th></th>\n",
              "      <th>datas</th>\n",
              "      <th>contagem</th>\n",
              "      <th>temperatura</th>\n",
              "      <th>sensacao</th>\n",
              "      <th>umidade</th>\n",
              "      <th>vel_vento</th>\n",
              "      <th>clima</th>\n",
              "      <th>feriado</th>\n",
              "      <th>final_ds</th>\n",
              "      <th>estacao</th>\n",
              "    </tr>\n",
              "  </thead>\n",
              "  <tbody>\n",
              "    <tr>\n",
              "      <th>0</th>\n",
              "      <td>2015-01-04 00:00:00</td>\n",
              "      <td>182</td>\n",
              "      <td>3.0</td>\n",
              "      <td>2.0</td>\n",
              "      <td>93.0</td>\n",
              "      <td>6.0</td>\n",
              "      <td>3.0</td>\n",
              "      <td>0.0</td>\n",
              "      <td>1.0</td>\n",
              "      <td>3.0</td>\n",
              "    </tr>\n",
              "    <tr>\n",
              "      <th>1</th>\n",
              "      <td>2015-01-04 01:00:00</td>\n",
              "      <td>138</td>\n",
              "      <td>3.0</td>\n",
              "      <td>2.5</td>\n",
              "      <td>93.0</td>\n",
              "      <td>5.0</td>\n",
              "      <td>1.0</td>\n",
              "      <td>0.0</td>\n",
              "      <td>1.0</td>\n",
              "      <td>3.0</td>\n",
              "    </tr>\n",
              "    <tr>\n",
              "      <th>2</th>\n",
              "      <td>2015-01-04 02:00:00</td>\n",
              "      <td>134</td>\n",
              "      <td>2.5</td>\n",
              "      <td>2.5</td>\n",
              "      <td>96.5</td>\n",
              "      <td>0.0</td>\n",
              "      <td>1.0</td>\n",
              "      <td>0.0</td>\n",
              "      <td>1.0</td>\n",
              "      <td>3.0</td>\n",
              "    </tr>\n",
              "    <tr>\n",
              "      <th>3</th>\n",
              "      <td>2015-01-04 03:00:00</td>\n",
              "      <td>72</td>\n",
              "      <td>2.0</td>\n",
              "      <td>2.0</td>\n",
              "      <td>100.0</td>\n",
              "      <td>0.0</td>\n",
              "      <td>1.0</td>\n",
              "      <td>0.0</td>\n",
              "      <td>1.0</td>\n",
              "      <td>3.0</td>\n",
              "    </tr>\n",
              "    <tr>\n",
              "      <th>4</th>\n",
              "      <td>2015-01-04 04:00:00</td>\n",
              "      <td>47</td>\n",
              "      <td>2.0</td>\n",
              "      <td>0.0</td>\n",
              "      <td>93.0</td>\n",
              "      <td>6.5</td>\n",
              "      <td>1.0</td>\n",
              "      <td>0.0</td>\n",
              "      <td>1.0</td>\n",
              "      <td>3.0</td>\n",
              "    </tr>\n",
              "  </tbody>\n",
              "</table>\n",
              "</div>\n",
              "      <button class=\"colab-df-convert\" onclick=\"convertToInteractive('df-6ea6201d-55b1-444a-8dd0-8537ae38a905')\"\n",
              "              title=\"Convert this dataframe to an interactive table.\"\n",
              "              style=\"display:none;\">\n",
              "        \n",
              "  <svg xmlns=\"http://www.w3.org/2000/svg\" height=\"24px\"viewBox=\"0 0 24 24\"\n",
              "       width=\"24px\">\n",
              "    <path d=\"M0 0h24v24H0V0z\" fill=\"none\"/>\n",
              "    <path d=\"M18.56 5.44l.94 2.06.94-2.06 2.06-.94-2.06-.94-.94-2.06-.94 2.06-2.06.94zm-11 1L8.5 8.5l.94-2.06 2.06-.94-2.06-.94L8.5 2.5l-.94 2.06-2.06.94zm10 10l.94 2.06.94-2.06 2.06-.94-2.06-.94-.94-2.06-.94 2.06-2.06.94z\"/><path d=\"M17.41 7.96l-1.37-1.37c-.4-.4-.92-.59-1.43-.59-.52 0-1.04.2-1.43.59L10.3 9.45l-7.72 7.72c-.78.78-.78 2.05 0 2.83L4 21.41c.39.39.9.59 1.41.59.51 0 1.02-.2 1.41-.59l7.78-7.78 2.81-2.81c.8-.78.8-2.07 0-2.86zM5.41 20L4 18.59l7.72-7.72 1.47 1.35L5.41 20z\"/>\n",
              "  </svg>\n",
              "      </button>\n",
              "      \n",
              "  <style>\n",
              "    .colab-df-container {\n",
              "      display:flex;\n",
              "      flex-wrap:wrap;\n",
              "      gap: 12px;\n",
              "    }\n",
              "\n",
              "    .colab-df-convert {\n",
              "      background-color: #E8F0FE;\n",
              "      border: none;\n",
              "      border-radius: 50%;\n",
              "      cursor: pointer;\n",
              "      display: none;\n",
              "      fill: #1967D2;\n",
              "      height: 32px;\n",
              "      padding: 0 0 0 0;\n",
              "      width: 32px;\n",
              "    }\n",
              "\n",
              "    .colab-df-convert:hover {\n",
              "      background-color: #E2EBFA;\n",
              "      box-shadow: 0px 1px 2px rgba(60, 64, 67, 0.3), 0px 1px 3px 1px rgba(60, 64, 67, 0.15);\n",
              "      fill: #174EA6;\n",
              "    }\n",
              "\n",
              "    [theme=dark] .colab-df-convert {\n",
              "      background-color: #3B4455;\n",
              "      fill: #D2E3FC;\n",
              "    }\n",
              "\n",
              "    [theme=dark] .colab-df-convert:hover {\n",
              "      background-color: #434B5C;\n",
              "      box-shadow: 0px 1px 3px 1px rgba(0, 0, 0, 0.15);\n",
              "      filter: drop-shadow(0px 1px 2px rgba(0, 0, 0, 0.3));\n",
              "      fill: #FFFFFF;\n",
              "    }\n",
              "  </style>\n",
              "\n",
              "      <script>\n",
              "        const buttonEl =\n",
              "          document.querySelector('#df-6ea6201d-55b1-444a-8dd0-8537ae38a905 button.colab-df-convert');\n",
              "        buttonEl.style.display =\n",
              "          google.colab.kernel.accessAllowed ? 'block' : 'none';\n",
              "\n",
              "        async function convertToInteractive(key) {\n",
              "          const element = document.querySelector('#df-6ea6201d-55b1-444a-8dd0-8537ae38a905');\n",
              "          const dataTable =\n",
              "            await google.colab.kernel.invokeFunction('convertToInteractive',\n",
              "                                                     [key], {});\n",
              "          if (!dataTable) return;\n",
              "\n",
              "          const docLinkHtml = 'Like what you see? Visit the ' +\n",
              "            '<a target=\"_blank\" href=https://colab.research.google.com/notebooks/data_table.ipynb>data table notebook</a>'\n",
              "            + ' to learn more about interactive tables.';\n",
              "          element.innerHTML = '';\n",
              "          dataTable['output_type'] = 'display_data';\n",
              "          await google.colab.output.renderOutput(dataTable, element);\n",
              "          const docLink = document.createElement('div');\n",
              "          docLink.innerHTML = docLinkHtml;\n",
              "          element.appendChild(docLink);\n",
              "        }\n",
              "      </script>\n",
              "    </div>\n",
              "  </div>\n",
              "  "
            ]
          },
          "metadata": {},
          "execution_count": 2
        }
      ]
    },
    {
      "cell_type": "code",
      "source": [
        "data.shape"
      ],
      "metadata": {
        "colab": {
          "base_uri": "https://localhost:8080/"
        },
        "id": "Od3gXF6wpyYr",
        "outputId": "f5242ef3-2a0c-4df6-9947-2d51d53ef4a9"
      },
      "execution_count": 3,
      "outputs": [
        {
          "output_type": "execute_result",
          "data": {
            "text/plain": [
              "(17414, 10)"
            ]
          },
          "metadata": {},
          "execution_count": 3
        }
      ]
    },
    {
      "cell_type": "code",
      "source": [
        "data['datas'] = pd.to_datetime(data['datas'])"
      ],
      "metadata": {
        "id": "skBqHNFdmQU3"
      },
      "execution_count": 4,
      "outputs": []
    },
    {
      "cell_type": "code",
      "source": [
        "sns.lineplot(x = data.datas, y = data.contagem)\n",
        "plt.xticks(rotation = 70)"
      ],
      "metadata": {
        "colab": {
          "base_uri": "https://localhost:8080/",
          "height": 347
        },
        "id": "fpPJpgglmdkQ",
        "outputId": "8bd8c865-56c1-4096-ce44-d70a71163c0a"
      },
      "execution_count": 5,
      "outputs": [
        {
          "output_type": "execute_result",
          "data": {
            "text/plain": [
              "(array([735599., 735689., 735780., 735872., 735964., 736055., 736146.,\n",
              "        736238., 736330.]), <a list of 9 Text major ticklabel objects>)"
            ]
          },
          "metadata": {},
          "execution_count": 5
        },
        {
          "output_type": "display_data",
          "data": {
            "text/plain": [
              "<Figure size 432x288 with 1 Axes>"
            ],
            "image/png": "[encoded data removed]"
          },
          "metadata": {
            "needs_background": "light"
          }
        }
      ]
    },
    {
      "cell_type": "markdown",
      "source": [
        "Normalizing data"
      ],
      "metadata": {
        "id": "Oi5lZmjFm-bA"
      }
    },
    {
      "cell_type": "code",
      "source": [
        "sc = StandardScaler()\n",
        "sc.fit(data['contagem'].values.reshape(-1,1))\n",
        "y = sc.transform(data['contagem'].values.reshape(-1,1))"
      ],
      "metadata": {
        "id": "-n2j4XUpnApk"
      },
      "execution_count": 6,
      "outputs": []
    },
    {
      "cell_type": "markdown",
      "source": [
        "Separate train and test values"
      ],
      "metadata": {
        "id": "WYu8zP2vnkUw"
      }
    },
    {
      "cell_type": "code",
      "source": [
        "train_size = int(len(data)*0.9)\n",
        "y_train = y[0:train_size]\n",
        "y_test = y[train_size:]"
      ],
      "metadata": {
        "id": "3YTqD2aFnZmY"
      },
      "execution_count": 7,
      "outputs": []
    },
    {
      "cell_type": "code",
      "source": [
        "sns.lineplot(x = data.datas[0:train_size], y=y_train[:,0], label = 'train')\n",
        "sns.lineplot(x = data.datas[train_size:], y=y_test[:,0], label = 'test')\n",
        "plt.xticks(rotation = 70)"
      ],
      "metadata": {
        "colab": {
          "base_uri": "https://localhost:8080/",
          "height": 347
        },
        "id": "bODJcRRSnj3t",
        "outputId": "41da74fc-120f-4000-8115-28d1359bc04f"
      },
      "execution_count": 8,
      "outputs": [
        {
          "output_type": "execute_result",
          "data": {
            "text/plain": [
              "(array([735599., 735689., 735780., 735872., 735964., 736055., 736146.,\n",
              "        736238., 736330.]), <a list of 9 Text major ticklabel objects>)"
            ]
          },
          "metadata": {},
          "execution_count": 8
        },
        {
          "output_type": "display_data",
          "data": {
            "text/plain": [
              "<Figure size 432x288 with 1 Axes>"
            ],
            "image/png": "[encoded data removed]"
          },
          "metadata": {
            "needs_background": "light"
          }
        }
      ]
    },
    {
      "cell_type": "code",
      "source": [
        "def separate_data(vector, n_steps):\n",
        "  '''\n",
        "    Input: vector: number of passengers\n",
        "           n_steps: number of regressor steps\n",
        "    \n",
        "    output: x_new = 2D Array\n",
        "            y_new = 1D - n_steps\n",
        "  '''\n",
        "  x_new, y_new = [], []\n",
        "\n",
        "  for i in range(n_steps, vector.shape[0]):\n",
        "    x_new.append(list(vector.loc[i-n_steps:i-1]))\n",
        "    y_new.append(vector.loc[i])\n",
        "\n",
        "  x_new, y_new = np.array(x_new), np.array(y_new)\n",
        "\n",
        "  return x_new,y_new"
      ],
      "metadata": {
        "id": "fyWK_M3gpNuf"
      },
      "execution_count": 9,
      "outputs": []
    },
    {
      "cell_type": "code",
      "source": [
        "dim = 10\n",
        "x_train_new, y_train_new = separate_data(pd.DataFrame(y_train)[0],dim)\n",
        "x_test_new, y_test_new = separate_data(pd.DataFrame(y_test)[0],dim)"
      ],
      "metadata": {
        "id": "VrvRJSGopXZc"
      },
      "execution_count": 10,
      "outputs": []
    },
    {
      "cell_type": "markdown",
      "source": [
        "Building RNN Model"
      ],
      "metadata": {
        "id": "dX7yAvTIrPOI"
      }
    },
    {
      "cell_type": "code",
      "source": [
        "x_train_new = x_train_new.reshape((x_train_new.shape[0], x_train_new.shape[1], 1))\n",
        "x_test_new = x_test_new.reshape((x_test_new.shape[0], x_test_new.shape[1], 1))"
      ],
      "metadata": {
        "id": "pHESGKcmrRns"
      },
      "execution_count": 11,
      "outputs": []
    },
    {
      "cell_type": "code",
      "source": [
        "model = tf.keras.models.Sequential()\n",
        "model.add(tf.keras.layers.Input(shape = (x_train_new.shape[1], x_train_new.shape[2])))\n",
        "model.add(tf.keras.layers.LSTM(128))\n",
        "model.add(tf.keras.layers.Dense(1))\n",
        "\n",
        "model.compile(loss = 'mean_squared_error', optimizer = 'adam')\n",
        "model.summary()"
      ],
      "metadata": {
        "colab": {
          "base_uri": "https://localhost:8080/"
        },
        "id": "11aNyALXrrzz",
        "outputId": "dde1ce4a-fb0a-40c9-9e2e-a4c1b50d2560"
      },
      "execution_count": 48,
      "outputs": [
        {
          "output_type": "stream",
          "name": "stdout",
          "text": [
            "Model: \"sequential_3\"\n",
            "_________________________________________________________________\n",
            " Layer (type)                Output Shape              Param #   \n",
            "=================================================================\n",
            " lstm_2 (LSTM)               (None, 128)               66560     \n",
            "                                                                 \n",
            " dense_3 (Dense)             (None, 1)                 129       \n",
            "                                                                 \n",
            "=================================================================\n",
            "Total params: 66,689\n",
            "Trainable params: 66,689\n",
            "Non-trainable params: 0\n",
            "_________________________________________________________________\n"
          ]
        }
      ]
    },
    {
      "cell_type": "code",
      "source": [
        "callbacks = tf.keras.callbacks.EarlyStopping(patience=3, monitor=\"val_loss\")\n",
        "history = model.fit(x_train_new, y_train_new, validation_data = (x_test_new, y_test_new),epochs = 100)"
      ],
      "metadata": {
        "colab": {
          "base_uri": "https://localhost:8080/"
        },
        "id": "fx0T5oVBsrGd",
        "outputId": "0150c6b1-47c1-4e79-f5ae-9556986e3f59"
      },
      "execution_count": 49,
      "outputs": [
        {
          "output_type": "stream",
          "name": "stdout",
          "text": [
            "Epoch 1/100\n",
            "490/490 [==============================] - 10s 14ms/step - loss: 0.2589 - val_loss: 0.0824\n",
            "Epoch 2/100\n",
            "490/490 [==============================] - 7s 14ms/step - loss: 0.0783 - val_loss: 0.0343\n",
            "Epoch 3/100\n",
            "490/490 [==============================] - 7s 14ms/step - loss: 0.0555 - val_loss: 0.0388\n",
            "Epoch 4/100\n",
            "490/490 [==============================] - 7s 13ms/step - loss: 0.0478 - val_loss: 0.0290\n",
            "Epoch 5/100\n",
            "490/490 [==============================] - 7s 14ms/step - loss: 0.0427 - val_loss: 0.0333\n",
            "Epoch 6/100\n",
            "490/490 [==============================] - 7s 14ms/step - loss: 0.0403 - val_loss: 0.0290\n",
            "Epoch 7/100\n",
            "490/490 [==============================] - 7s 14ms/step - loss: 0.0383 - val_loss: 0.0269\n",
            "Epoch 8/100\n",
            "490/490 [==============================] - 7s 14ms/step - loss: 0.0370 - val_loss: 0.0206\n",
            "Epoch 9/100\n",
            "490/490 [==============================] - 7s 13ms/step - loss: 0.0345 - val_loss: 0.0244\n",
            "Epoch 10/100\n",
            "490/490 [==============================] - 7s 14ms/step - loss: 0.0339 - val_loss: 0.0231\n",
            "Epoch 11/100\n",
            "490/490 [==============================] - 7s 14ms/step - loss: 0.0328 - val_loss: 0.0208\n",
            "Epoch 12/100\n",
            "490/490 [==============================] - 7s 14ms/step - loss: 0.0316 - val_loss: 0.0300\n",
            "Epoch 13/100\n",
            "490/490 [==============================] - 6s 13ms/step - loss: 0.0315 - val_loss: 0.0192\n",
            "Epoch 14/100\n",
            "490/490 [==============================] - 7s 14ms/step - loss: 0.0300 - val_loss: 0.0201\n",
            "Epoch 15/100\n",
            "490/490 [==============================] - 7s 15ms/step - loss: 0.0296 - val_loss: 0.0201\n",
            "Epoch 16/100\n",
            "490/490 [==============================] - 7s 14ms/step - loss: 0.0293 - val_loss: 0.0214\n",
            "Epoch 17/100\n",
            "490/490 [==============================] - 7s 14ms/step - loss: 0.0282 - val_loss: 0.0177\n",
            "Epoch 18/100\n",
            "490/490 [==============================] - 7s 15ms/step - loss: 0.0281 - val_loss: 0.0198\n",
            "Epoch 19/100\n",
            "490/490 [==============================] - 7s 15ms/step - loss: 0.0280 - val_loss: 0.0188\n",
            "Epoch 20/100\n",
            "490/490 [==============================] - 11s 22ms/step - loss: 0.0264 - val_loss: 0.0162\n",
            "Epoch 21/100\n",
            "490/490 [==============================] - 7s 15ms/step - loss: 0.0267 - val_loss: 0.0173\n",
            "Epoch 22/100\n",
            "490/490 [==============================] - 7s 15ms/step - loss: 0.0267 - val_loss: 0.0196\n",
            "Epoch 23/100\n",
            "490/490 [==============================] - 8s 17ms/step - loss: 0.0260 - val_loss: 0.0153\n",
            "Epoch 24/100\n",
            "490/490 [==============================] - 8s 16ms/step - loss: 0.0255 - val_loss: 0.0159\n",
            "Epoch 25/100\n",
            "490/490 [==============================] - 7s 15ms/step - loss: 0.0257 - val_loss: 0.0168\n",
            "Epoch 26/100\n",
            "490/490 [==============================] - 7s 15ms/step - loss: 0.0250 - val_loss: 0.0156\n",
            "Epoch 27/100\n",
            "490/490 [==============================] - 7s 15ms/step - loss: 0.0244 - val_loss: 0.0177\n",
            "Epoch 28/100\n",
            "490/490 [==============================] - 7s 15ms/step - loss: 0.0248 - val_loss: 0.0196\n",
            "Epoch 29/100\n",
            "490/490 [==============================] - 7s 15ms/step - loss: 0.0241 - val_loss: 0.0163\n",
            "Epoch 30/100\n",
            "490/490 [==============================] - 7s 14ms/step - loss: 0.0242 - val_loss: 0.0154\n",
            "Epoch 31/100\n",
            "490/490 [==============================] - 7s 15ms/step - loss: 0.0239 - val_loss: 0.0170\n",
            "Epoch 32/100\n",
            "490/490 [==============================] - 7s 14ms/step - loss: 0.0231 - val_loss: 0.0151\n",
            "Epoch 33/100\n",
            "490/490 [==============================] - 7s 14ms/step - loss: 0.0234 - val_loss: 0.0152\n",
            "Epoch 34/100\n",
            "490/490 [==============================] - 7s 15ms/step - loss: 0.0233 - val_loss: 0.0154\n",
            "Epoch 35/100\n",
            "490/490 [==============================] - 7s 15ms/step - loss: 0.0228 - val_loss: 0.0155\n",
            "Epoch 36/100\n",
            "490/490 [==============================] - 7s 14ms/step - loss: 0.0225 - val_loss: 0.0164\n",
            "Epoch 37/100\n",
            "490/490 [==============================] - 7s 14ms/step - loss: 0.0226 - val_loss: 0.0147\n",
            "Epoch 38/100\n",
            "490/490 [==============================] - 7s 15ms/step - loss: 0.0226 - val_loss: 0.0160\n",
            "Epoch 39/100\n",
            "490/490 [==============================] - 7s 14ms/step - loss: 0.0219 - val_loss: 0.0162\n",
            "Epoch 40/100\n",
            "490/490 [==============================] - 7s 14ms/step - loss: 0.0218 - val_loss: 0.0171\n",
            "Epoch 41/100\n",
            "490/490 [==============================] - 7s 14ms/step - loss: 0.0217 - val_loss: 0.0159\n",
            "Epoch 42/100\n",
            "490/490 [==============================] - 7s 15ms/step - loss: 0.0214 - val_loss: 0.0189\n",
            "Epoch 43/100\n",
            "490/490 [==============================] - 9s 18ms/step - loss: 0.0216 - val_loss: 0.0158\n",
            "Epoch 44/100\n",
            "490/490 [==============================] - 9s 17ms/step - loss: 0.0213 - val_loss: 0.0161\n",
            "Epoch 45/100\n",
            "490/490 [==============================] - 7s 14ms/step - loss: 0.0209 - val_loss: 0.0157\n",
            "Epoch 46/100\n",
            "490/490 [==============================] - 7s 15ms/step - loss: 0.0208 - val_loss: 0.0151\n",
            "Epoch 47/100\n",
            "490/490 [==============================] - 7s 14ms/step - loss: 0.0204 - val_loss: 0.0185\n",
            "Epoch 48/100\n",
            "490/490 [==============================] - 7s 14ms/step - loss: 0.0212 - val_loss: 0.0171\n",
            "Epoch 49/100\n",
            "490/490 [==============================] - 7s 14ms/step - loss: 0.0202 - val_loss: 0.0155\n",
            "Epoch 50/100\n",
            "490/490 [==============================] - 7s 15ms/step - loss: 0.0203 - val_loss: 0.0169\n",
            "Epoch 51/100\n",
            "490/490 [==============================] - 7s 14ms/step - loss: 0.0220 - val_loss: 0.0157\n",
            "Epoch 52/100\n",
            "490/490 [==============================] - 7s 14ms/step - loss: 0.0201 - val_loss: 0.0174\n",
            "Epoch 53/100\n",
            "490/490 [==============================] - 7s 15ms/step - loss: 0.0199 - val_loss: 0.0145\n",
            "Epoch 54/100\n",
            "490/490 [==============================] - 7s 14ms/step - loss: 0.0197 - val_loss: 0.0176\n",
            "Epoch 55/100\n",
            "490/490 [==============================] - 8s 16ms/step - loss: 0.0201 - val_loss: 0.0158\n",
            "Epoch 56/100\n",
            "490/490 [==============================] - 8s 16ms/step - loss: 0.0194 - val_loss: 0.0167\n",
            "Epoch 57/100\n",
            "490/490 [==============================] - 7s 13ms/step - loss: 0.0194 - val_loss: 0.0183\n",
            "Epoch 58/100\n",
            "490/490 [==============================] - 7s 14ms/step - loss: 0.0196 - val_loss: 0.0167\n",
            "Epoch 59/100\n",
            "490/490 [==============================] - 7s 14ms/step - loss: 0.0192 - val_loss: 0.0150\n",
            "Epoch 60/100\n",
            "490/490 [==============================] - 7s 15ms/step - loss: 0.0191 - val_loss: 0.0143\n",
            "Epoch 61/100\n",
            "490/490 [==============================] - 7s 14ms/step - loss: 0.0191 - val_loss: 0.0159\n",
            "Epoch 62/100\n",
            "490/490 [==============================] - 7s 14ms/step - loss: 0.0188 - val_loss: 0.0149\n",
            "Epoch 63/100\n",
            "490/490 [==============================] - 7s 14ms/step - loss: 0.0187 - val_loss: 0.0152\n",
            "Epoch 64/100\n",
            "490/490 [==============================] - 7s 14ms/step - loss: 0.0193 - val_loss: 0.0148\n",
            "Epoch 65/100\n",
            "490/490 [==============================] - 7s 14ms/step - loss: 0.0188 - val_loss: 0.0172\n",
            "Epoch 66/100\n",
            "490/490 [==============================] - 8s 17ms/step - loss: 0.0186 - val_loss: 0.0169\n",
            "Epoch 67/100\n",
            "490/490 [==============================] - 10s 19ms/step - loss: 0.0182 - val_loss: 0.0163\n",
            "Epoch 68/100\n",
            "490/490 [==============================] - 7s 15ms/step - loss: 0.0188 - val_loss: 0.0155\n",
            "Epoch 69/100\n",
            "490/490 [==============================] - 7s 14ms/step - loss: 0.0184 - val_loss: 0.0156\n",
            "Epoch 70/100\n",
            "490/490 [==============================] - 7s 14ms/step - loss: 0.0186 - val_loss: 0.0157\n",
            "Epoch 71/100\n",
            "490/490 [==============================] - 7s 14ms/step - loss: 0.0180 - val_loss: 0.0147\n",
            "Epoch 72/100\n",
            "490/490 [==============================] - 7s 14ms/step - loss: 0.0178 - val_loss: 0.0170\n",
            "Epoch 73/100\n",
            "490/490 [==============================] - 7s 15ms/step - loss: 0.0177 - val_loss: 0.0148\n",
            "Epoch 74/100\n",
            "490/490 [==============================] - 7s 14ms/step - loss: 0.0177 - val_loss: 0.0151\n",
            "Epoch 75/100\n",
            "490/490 [==============================] - 6s 13ms/step - loss: 0.0176 - val_loss: 0.0153\n",
            "Epoch 76/100\n",
            "490/490 [==============================] - 7s 15ms/step - loss: 0.0177 - val_loss: 0.0151\n",
            "Epoch 77/100\n",
            "490/490 [==============================] - 6s 13ms/step - loss: 0.0177 - val_loss: 0.0142\n",
            "Epoch 78/100\n",
            "490/490 [==============================] - 6s 13ms/step - loss: 0.0174 - val_loss: 0.0147\n",
            "Epoch 79/100\n",
            "490/490 [==============================] - 6s 13ms/step - loss: 0.0173 - val_loss: 0.0154\n",
            "Epoch 80/100\n",
            "490/490 [==============================] - 7s 14ms/step - loss: 0.0170 - val_loss: 0.0145\n",
            "Epoch 81/100\n",
            "490/490 [==============================] - 6s 13ms/step - loss: 0.0169 - val_loss: 0.0153\n",
            "Epoch 82/100\n",
            "490/490 [==============================] - 7s 14ms/step - loss: 0.0172 - val_loss: 0.0139\n",
            "Epoch 83/100\n",
            "490/490 [==============================] - 7s 13ms/step - loss: 0.0168 - val_loss: 0.0144\n",
            "Epoch 84/100\n",
            "490/490 [==============================] - 7s 14ms/step - loss: 0.0169 - val_loss: 0.0161\n",
            "Epoch 85/100\n",
            "490/490 [==============================] - 6s 13ms/step - loss: 0.0165 - val_loss: 0.0145\n",
            "Epoch 86/100\n",
            "490/490 [==============================] - 9s 17ms/step - loss: 0.0166 - val_loss: 0.0159\n",
            "Epoch 87/100\n",
            "490/490 [==============================] - 7s 14ms/step - loss: 0.0166 - val_loss: 0.0147\n",
            "Epoch 88/100\n",
            "490/490 [==============================] - 7s 13ms/step - loss: 0.0165 - val_loss: 0.0157\n",
            "Epoch 89/100\n",
            "490/490 [==============================] - 7s 14ms/step - loss: 0.0163 - val_loss: 0.0155\n",
            "Epoch 90/100\n",
            "490/490 [==============================] - 11s 22ms/step - loss: 0.0162 - val_loss: 0.0154\n",
            "Epoch 91/100\n",
            "490/490 [==============================] - 7s 13ms/step - loss: 0.0162 - val_loss: 0.0164\n",
            "Epoch 92/100\n",
            "490/490 [==============================] - 6s 13ms/step - loss: 0.0159 - val_loss: 0.0150\n",
            "Epoch 93/100\n",
            "490/490 [==============================] - 6s 13ms/step - loss: 0.0157 - val_loss: 0.0149\n",
            "Epoch 94/100\n",
            "490/490 [==============================] - 7s 14ms/step - loss: 0.0159 - val_loss: 0.0152\n",
            "Epoch 95/100\n",
            "490/490 [==============================] - 7s 15ms/step - loss: 0.0161 - val_loss: 0.0159\n",
            "Epoch 96/100\n",
            "490/490 [==============================] - 7s 14ms/step - loss: 0.0157 - val_loss: 0.0154\n",
            "Epoch 97/100\n",
            "490/490 [==============================] - 7s 14ms/step - loss: 0.0158 - val_loss: 0.0151\n",
            "Epoch 98/100\n",
            "490/490 [==============================] - 7s 14ms/step - loss: 0.0155 - val_loss: 0.0145\n",
            "Epoch 99/100\n",
            "490/490 [==============================] - 7s 13ms/step - loss: 0.0155 - val_loss: 0.0148\n",
            "Epoch 100/100\n",
            "490/490 [==============================] - 7s 14ms/step - loss: 0.0157 - val_loss: 0.0139\n"
          ]
        }
      ]
    },
    {
      "cell_type": "code",
      "source": [
        "y_pred_train = model.predict(x_train_new)"
      ],
      "metadata": {
        "id": "t5StNWswuRrk"
      },
      "execution_count": 50,
      "outputs": []
    },
    {
      "cell_type": "code",
      "source": [
        "y_train.shape"
      ],
      "metadata": {
        "colab": {
          "base_uri": "https://localhost:8080/"
        },
        "id": "cfOVRFzuwFBM",
        "outputId": "1267c6d6-14bd-4806-e181-f72cd20c7d14"
      },
      "execution_count": 51,
      "outputs": [
        {
          "output_type": "execute_result",
          "data": {
            "text/plain": [
              "(15672, 1)"
            ]
          },
          "metadata": {},
          "execution_count": 51
        }
      ]
    },
    {
      "cell_type": "code",
      "source": [
        "sns.lineplot(x = data.datas[0:train_size], y = y_train[:,0], label = 'train')\n",
        "sns.lineplot(x = data.datas[0:15662], y = y_pred_train[:,0], label = 'train pred')\n",
        "plt.xticks(rotation = 70)"
      ],
      "metadata": {
        "colab": {
          "base_uri": "https://localhost:8080/",
          "height": 347
        },
        "id": "gJR09QmzuVyr",
        "outputId": "c8b47f1a-e6c4-48c2-c4dc-8a2b0e55857e"
      },
      "execution_count": 52,
      "outputs": [
        {
          "output_type": "execute_result",
          "data": {
            "text/plain": [
              "(array([735599., 735689., 735780., 735872., 735964., 736055., 736146.,\n",
              "        736238.]), <a list of 8 Text major ticklabel objects>)"
            ]
          },
          "metadata": {},
          "execution_count": 52
        },
        {
          "output_type": "display_data",
          "data": {
            "text/plain": [
              "<Figure size 432x288 with 1 Axes>"
            ],
            "image/png": "[encoded data removed]"
          },
          "metadata": {
            "needs_background": "light"
          }
        }
      ]
    },
    {
      "cell_type": "code",
      "source": [
        "y_pred_test = model.predict(x_test_new)\n",
        "\n",
        "#sns.lineplot(x = data.datas[0:train_size], y = y_train[:,0], label = 'train')\n",
        "#sns.lineplot(x = data.datas[0:15662], y = y_pred_train[:,0], label = 'train pred')\n",
        "sns.lineplot(x = data.datas[train_size:], y = y_test[:,0], label = 'test')\n",
        "sns.lineplot(x = data.datas[train_size+dim:], y = y_pred_test[:,0], label = 'test pred')\n",
        "plt.xticks(rotation = 70)"
      ],
      "metadata": {
        "colab": {
          "base_uri": "https://localhost:8080/",
          "height": 362
        },
        "id": "qEChuDLK0fc6",
        "outputId": "64189381-9eb4-4b98-e716-903cb3309964"
      },
      "execution_count": 53,
      "outputs": [
        {
          "output_type": "execute_result",
          "data": {
            "text/plain": [
              "(array([736269., 736283., 736299., 736313., 736330.]),\n",
              " <a list of 5 Text major ticklabel objects>)"
            ]
          },
          "metadata": {},
          "execution_count": 53
        },
        {
          "output_type": "display_data",
          "data": {
            "text/plain": [
              "<Figure size 432x288 with 1 Axes>"
            ],
            "image/png": "[encoded data removed]"
          },
          "metadata": {
            "needs_background": "light"
          }
        }
      ]
    },
    {
      "cell_type": "markdown",
      "source": [
        "GRU"
      ],
      "metadata": {
        "id": "ijG8EQwq7cna"
      }
    },
    {
      "cell_type": "code",
      "source": [
        "model2 = tf.keras.models.Sequential()\n",
        "model2.add(tf.keras.layers.Input(shape = (x_train_new.shape[1], x_train_new.shape[2])))\n",
        "model2.add(tf.keras.layers.GRU(128))\n",
        "model2.add(tf.keras.layers.Dense(1))\n",
        "\n",
        "model2.compile(loss = 'mean_squared_error', optimizer = 'adam')\n",
        "model2.summary()"
      ],
      "metadata": {
        "colab": {
          "base_uri": "https://localhost:8080/"
        },
        "id": "vyebCybg11ls",
        "outputId": "4479f0e3-0d29-4a16-cc99-85843d9633fd"
      },
      "execution_count": 54,
      "outputs": [
        {
          "output_type": "stream",
          "name": "stdout",
          "text": [
            "Model: \"sequential_4\"\n",
            "_________________________________________________________________\n",
            " Layer (type)                Output Shape              Param #   \n",
            "=================================================================\n",
            " gru_1 (GRU)                 (None, 128)               50304     \n",
            "                                                                 \n",
            " dense_4 (Dense)             (None, 1)                 129       \n",
            "                                                                 \n",
            "=================================================================\n",
            "Total params: 50,433\n",
            "Trainable params: 50,433\n",
            "Non-trainable params: 0\n",
            "_________________________________________________________________\n"
          ]
        }
      ]
    },
    {
      "cell_type": "code",
      "source": [
        "callbacks = tf.keras.callbacks.EarlyStopping(patience=3, monitor=\"val_loss\")\n",
        "history2 = model2.fit(x_train_new, y_train_new, validation_data = (x_test_new, y_test_new),epochs = 100)"
      ],
      "metadata": {
        "colab": {
          "base_uri": "https://localhost:8080/"
        },
        "id": "I6hMMfYI7jaa",
        "outputId": "4fdaabd4-db05-4f57-9a15-83dd2cf22702"
      },
      "execution_count": 55,
      "outputs": [
        {
          "output_type": "stream",
          "name": "stdout",
          "text": [
            "Epoch 1/100\n",
            "490/490 [==============================] - 9s 14ms/step - loss: 0.2238 - val_loss: 0.0538\n",
            "Epoch 2/100\n",
            "490/490 [==============================] - 6s 12ms/step - loss: 0.0601 - val_loss: 0.0406\n",
            "Epoch 3/100\n",
            "490/490 [==============================] - 6s 12ms/step - loss: 0.0463 - val_loss: 0.0298\n",
            "Epoch 4/100\n",
            "490/490 [==============================] - 6s 12ms/step - loss: 0.0417 - val_loss: 0.0236\n",
            "Epoch 5/100\n",
            "490/490 [==============================] - 9s 19ms/step - loss: 0.0383 - val_loss: 0.0257\n",
            "Epoch 6/100\n",
            "490/490 [==============================] - 6s 12ms/step - loss: 0.0368 - val_loss: 0.0213\n",
            "Epoch 7/100\n",
            "490/490 [==============================] - 6s 12ms/step - loss: 0.0354 - val_loss: 0.0238\n",
            "Epoch 8/100\n",
            "490/490 [==============================] - 6s 11ms/step - loss: 0.0341 - val_loss: 0.0193\n",
            "Epoch 9/100\n",
            "490/490 [==============================] - 6s 12ms/step - loss: 0.0324 - val_loss: 0.0177\n",
            "Epoch 10/100\n",
            "490/490 [==============================] - 6s 12ms/step - loss: 0.0315 - val_loss: 0.0202\n",
            "Epoch 11/100\n",
            "490/490 [==============================] - 7s 14ms/step - loss: 0.0321 - val_loss: 0.0176\n",
            "Epoch 12/100\n",
            "490/490 [==============================] - 7s 13ms/step - loss: 0.0310 - val_loss: 0.0180\n",
            "Epoch 13/100\n",
            "490/490 [==============================] - 6s 13ms/step - loss: 0.0293 - val_loss: 0.0230\n",
            "Epoch 14/100\n",
            "490/490 [==============================] - 6s 12ms/step - loss: 0.0290 - val_loss: 0.0213\n",
            "Epoch 15/100\n",
            "490/490 [==============================] - 6s 12ms/step - loss: 0.0293 - val_loss: 0.0224\n",
            "Epoch 16/100\n",
            "490/490 [==============================] - 6s 12ms/step - loss: 0.0284 - val_loss: 0.0234\n",
            "Epoch 17/100\n",
            "490/490 [==============================] - 6s 12ms/step - loss: 0.0276 - val_loss: 0.0201\n",
            "Epoch 18/100\n",
            "490/490 [==============================] - 6s 12ms/step - loss: 0.0271 - val_loss: 0.0203\n",
            "Epoch 19/100\n",
            "490/490 [==============================] - 6s 12ms/step - loss: 0.0267 - val_loss: 0.0155\n",
            "Epoch 20/100\n",
            "490/490 [==============================] - 6s 12ms/step - loss: 0.0269 - val_loss: 0.0177\n",
            "Epoch 21/100\n",
            "490/490 [==============================] - 6s 12ms/step - loss: 0.0260 - val_loss: 0.0174\n",
            "Epoch 22/100\n",
            "490/490 [==============================] - 6s 13ms/step - loss: 0.0269 - val_loss: 0.0219\n",
            "Epoch 23/100\n",
            "490/490 [==============================] - 6s 12ms/step - loss: 0.0264 - val_loss: 0.0162\n",
            "Epoch 24/100\n",
            "490/490 [==============================] - 6s 12ms/step - loss: 0.0256 - val_loss: 0.0203\n",
            "Epoch 25/100\n",
            "490/490 [==============================] - 6s 12ms/step - loss: 0.0255 - val_loss: 0.0163\n",
            "Epoch 26/100\n",
            "490/490 [==============================] - 6s 13ms/step - loss: 0.0247 - val_loss: 0.0180\n",
            "Epoch 27/100\n",
            "490/490 [==============================] - 6s 13ms/step - loss: 0.0246 - val_loss: 0.0166\n",
            "Epoch 28/100\n",
            "490/490 [==============================] - 5s 11ms/step - loss: 0.0249 - val_loss: 0.0165\n",
            "Epoch 29/100\n",
            "490/490 [==============================] - 5s 11ms/step - loss: 0.0237 - val_loss: 0.0185\n",
            "Epoch 30/100\n",
            "490/490 [==============================] - 6s 12ms/step - loss: 0.0243 - val_loss: 0.0163\n",
            "Epoch 31/100\n",
            "490/490 [==============================] - 6s 12ms/step - loss: 0.0248 - val_loss: 0.0166\n",
            "Epoch 32/100\n",
            "490/490 [==============================] - 10s 20ms/step - loss: 0.0241 - val_loss: 0.0149\n",
            "Epoch 33/100\n",
            "490/490 [==============================] - 5s 11ms/step - loss: 0.0229 - val_loss: 0.0164\n",
            "Epoch 34/100\n",
            "490/490 [==============================] - 6s 12ms/step - loss: 0.0237 - val_loss: 0.0172\n",
            "Epoch 35/100\n",
            "490/490 [==============================] - 6s 12ms/step - loss: 0.0229 - val_loss: 0.0178\n",
            "Epoch 36/100\n",
            "490/490 [==============================] - 6s 12ms/step - loss: 0.0230 - val_loss: 0.0152\n",
            "Epoch 37/100\n",
            "490/490 [==============================] - 6s 12ms/step - loss: 0.0225 - val_loss: 0.0179\n",
            "Epoch 38/100\n",
            "490/490 [==============================] - 6s 12ms/step - loss: 0.0225 - val_loss: 0.0170\n",
            "Epoch 39/100\n",
            "490/490 [==============================] - 6s 12ms/step - loss: 0.0224 - val_loss: 0.0145\n",
            "Epoch 40/100\n",
            "490/490 [==============================] - 6s 12ms/step - loss: 0.0217 - val_loss: 0.0168\n",
            "Epoch 41/100\n",
            "490/490 [==============================] - 6s 11ms/step - loss: 0.0215 - val_loss: 0.0153\n",
            "Epoch 42/100\n",
            "490/490 [==============================] - 6s 12ms/step - loss: 0.0215 - val_loss: 0.0178\n",
            "Epoch 43/100\n",
            "490/490 [==============================] - 6s 12ms/step - loss: 0.0217 - val_loss: 0.0196\n",
            "Epoch 44/100\n",
            "490/490 [==============================] - 6s 13ms/step - loss: 0.0209 - val_loss: 0.0157\n",
            "Epoch 45/100\n",
            "490/490 [==============================] - 6s 12ms/step - loss: 0.0231 - val_loss: 0.0233\n",
            "Epoch 46/100\n",
            "490/490 [==============================] - 7s 15ms/step - loss: 0.0215 - val_loss: 0.0164\n",
            "Epoch 47/100\n",
            "490/490 [==============================] - 7s 14ms/step - loss: 0.0204 - val_loss: 0.0160\n",
            "Epoch 48/100\n",
            "490/490 [==============================] - 6s 12ms/step - loss: 0.0207 - val_loss: 0.0153\n",
            "Epoch 49/100\n",
            "490/490 [==============================] - 6s 12ms/step - loss: 0.0201 - val_loss: 0.0160\n",
            "Epoch 50/100\n",
            "490/490 [==============================] - 6s 12ms/step - loss: 0.0205 - val_loss: 0.0154\n",
            "Epoch 51/100\n",
            "490/490 [==============================] - 6s 13ms/step - loss: 0.0204 - val_loss: 0.0153\n",
            "Epoch 52/100\n",
            "490/490 [==============================] - 6s 13ms/step - loss: 0.0205 - val_loss: 0.0153\n",
            "Epoch 53/100\n",
            "490/490 [==============================] - 6s 13ms/step - loss: 0.0201 - val_loss: 0.0149\n",
            "Epoch 54/100\n",
            "490/490 [==============================] - 6s 13ms/step - loss: 0.0205 - val_loss: 0.0147\n",
            "Epoch 55/100\n",
            "490/490 [==============================] - 6s 13ms/step - loss: 0.0197 - val_loss: 0.0143\n",
            "Epoch 56/100\n",
            "490/490 [==============================] - 6s 13ms/step - loss: 0.0216 - val_loss: 0.0168\n",
            "Epoch 57/100\n",
            "490/490 [==============================] - 10s 21ms/step - loss: 0.0200 - val_loss: 0.0153\n",
            "Epoch 58/100\n",
            "490/490 [==============================] - 6s 13ms/step - loss: 0.0191 - val_loss: 0.0147\n",
            "Epoch 59/100\n",
            "490/490 [==============================] - 6s 12ms/step - loss: 0.0187 - val_loss: 0.0157\n",
            "Epoch 60/100\n",
            "490/490 [==============================] - 6s 13ms/step - loss: 0.0191 - val_loss: 0.0153\n",
            "Epoch 61/100\n",
            "490/490 [==============================] - 6s 12ms/step - loss: 0.0191 - val_loss: 0.0154\n",
            "Epoch 62/100\n",
            "490/490 [==============================] - 6s 13ms/step - loss: 0.0189 - val_loss: 0.0156\n",
            "Epoch 63/100\n",
            "490/490 [==============================] - 6s 12ms/step - loss: 0.0194 - val_loss: 0.0153\n",
            "Epoch 64/100\n",
            "490/490 [==============================] - 6s 12ms/step - loss: 0.0189 - val_loss: 0.0161\n",
            "Epoch 65/100\n",
            "490/490 [==============================] - 6s 12ms/step - loss: 0.0187 - val_loss: 0.0155\n",
            "Epoch 66/100\n",
            "490/490 [==============================] - 6s 13ms/step - loss: 0.0185 - val_loss: 0.0147\n",
            "Epoch 67/100\n",
            "490/490 [==============================] - 6s 12ms/step - loss: 0.0184 - val_loss: 0.0162\n",
            "Epoch 68/100\n",
            "490/490 [==============================] - 9s 18ms/step - loss: 0.0186 - val_loss: 0.0160\n",
            "Epoch 69/100\n",
            "490/490 [==============================] - 9s 18ms/step - loss: 0.0185 - val_loss: 0.0148\n",
            "Epoch 70/100\n",
            "490/490 [==============================] - 6s 12ms/step - loss: 0.0181 - val_loss: 0.0171\n",
            "Epoch 71/100\n",
            "490/490 [==============================] - 6s 11ms/step - loss: 0.0182 - val_loss: 0.0168\n",
            "Epoch 72/100\n",
            "490/490 [==============================] - 6s 12ms/step - loss: 0.0180 - val_loss: 0.0148\n",
            "Epoch 73/100\n",
            "490/490 [==============================] - 6s 13ms/step - loss: 0.0179 - val_loss: 0.0148\n",
            "Epoch 74/100\n",
            "490/490 [==============================] - 6s 12ms/step - loss: 0.0179 - val_loss: 0.0167\n",
            "Epoch 75/100\n",
            "490/490 [==============================] - 6s 13ms/step - loss: 0.0177 - val_loss: 0.0151\n",
            "Epoch 76/100\n",
            "490/490 [==============================] - 6s 12ms/step - loss: 0.0177 - val_loss: 0.0157\n",
            "Epoch 77/100\n",
            "490/490 [==============================] - 6s 13ms/step - loss: 0.0173 - val_loss: 0.0140\n",
            "Epoch 78/100\n",
            "490/490 [==============================] - 7s 15ms/step - loss: 0.0176 - val_loss: 0.0150\n",
            "Epoch 79/100\n",
            "490/490 [==============================] - 6s 12ms/step - loss: 0.0174 - val_loss: 0.0148\n",
            "Epoch 80/100\n",
            "490/490 [==============================] - 6s 11ms/step - loss: 0.0171 - val_loss: 0.0174\n",
            "Epoch 81/100\n",
            "490/490 [==============================] - 8s 17ms/step - loss: 0.0179 - val_loss: 0.0158\n",
            "Epoch 82/100\n",
            "490/490 [==============================] - 7s 15ms/step - loss: 0.0172 - val_loss: 0.0175\n",
            "Epoch 83/100\n",
            "490/490 [==============================] - 6s 12ms/step - loss: 0.0170 - val_loss: 0.0143\n",
            "Epoch 84/100\n",
            "490/490 [==============================] - 6s 12ms/step - loss: 0.0167 - val_loss: 0.0141\n",
            "Epoch 85/100\n",
            "490/490 [==============================] - 6s 13ms/step - loss: 0.0167 - val_loss: 0.0156\n",
            "Epoch 86/100\n",
            "490/490 [==============================] - 6s 12ms/step - loss: 0.0165 - val_loss: 0.0153\n",
            "Epoch 87/100\n",
            "490/490 [==============================] - 6s 12ms/step - loss: 0.0168 - val_loss: 0.0165\n",
            "Epoch 88/100\n",
            "490/490 [==============================] - 6s 12ms/step - loss: 0.0168 - val_loss: 0.0157\n",
            "Epoch 89/100\n",
            "490/490 [==============================] - 6s 13ms/step - loss: 0.0166 - val_loss: 0.0152\n",
            "Epoch 90/100\n",
            "490/490 [==============================] - 6s 13ms/step - loss: 0.0166 - val_loss: 0.0155\n",
            "Epoch 91/100\n",
            "490/490 [==============================] - 6s 13ms/step - loss: 0.0164 - val_loss: 0.0153\n",
            "Epoch 92/100\n",
            "490/490 [==============================] - 6s 12ms/step - loss: 0.0161 - val_loss: 0.0176\n",
            "Epoch 93/100\n",
            "490/490 [==============================] - 6s 12ms/step - loss: 0.0166 - val_loss: 0.0161\n",
            "Epoch 94/100\n",
            "490/490 [==============================] - 6s 12ms/step - loss: 0.0162 - val_loss: 0.0150\n",
            "Epoch 95/100\n",
            "490/490 [==============================] - 6s 12ms/step - loss: 0.0159 - val_loss: 0.0141\n",
            "Epoch 96/100\n",
            "490/490 [==============================] - 6s 13ms/step - loss: 0.0158 - val_loss: 0.0159\n",
            "Epoch 97/100\n",
            "490/490 [==============================] - 6s 12ms/step - loss: 0.0157 - val_loss: 0.0144\n",
            "Epoch 98/100\n",
            "490/490 [==============================] - 6s 12ms/step - loss: 0.0157 - val_loss: 0.0153\n",
            "Epoch 99/100\n",
            "490/490 [==============================] - 6s 12ms/step - loss: 0.0154 - val_loss: 0.0149\n",
            "Epoch 100/100\n",
            "490/490 [==============================] - 6s 12ms/step - loss: 0.0156 - val_loss: 0.0150\n"
          ]
        }
      ]
    },
    {
      "cell_type": "code",
      "source": [
        "y_pred_train = model2.predict(x_train_new)"
      ],
      "metadata": {
        "id": "lRPeL-VX7nnF"
      },
      "execution_count": 56,
      "outputs": []
    },
    {
      "cell_type": "code",
      "source": [
        "sns.lineplot(x = data.datas[0:train_size], y = y_train[:,0], label = 'train')\n",
        "sns.lineplot(x = data.datas[0:15662], y = y_pred_train[:,0], label = 'train pred')\n",
        "plt.xticks(rotation = 70)"
      ],
      "metadata": {
        "colab": {
          "base_uri": "https://localhost:8080/",
          "height": 347
        },
        "id": "9u50VKOs7pNy",
        "outputId": "0caa9d2d-38b5-4a66-af8a-01448c6ca703"
      },
      "execution_count": 57,
      "outputs": [
        {
          "output_type": "execute_result",
          "data": {
            "text/plain": [
              "(array([735599., 735689., 735780., 735872., 735964., 736055., 736146.,\n",
              "        736238.]), <a list of 8 Text major ticklabel objects>)"
            ]
          },
          "metadata": {},
          "execution_count": 57
        },
        {
          "output_type": "display_data",
          "data": {
            "text/plain": [
              "<Figure size 432x288 with 1 Axes>"
            ],
            "image/png": "[encoded data removed]"
          },
          "metadata": {
            "needs_background": "light"
          }
        }
      ]
    },
    {
      "cell_type": "code",
      "source": [
        "y_pred_test = model2.predict(x_test_new)\n",
        "\n",
        "#sns.lineplot(x = data.datas[0:train_size], y = y_train[:,0], label = 'train')\n",
        "#sns.lineplot(x = data.datas[0:15662], y = y_pred_train[:,0], label = 'train pred')\n",
        "sns.lineplot(x = data.datas[train_size:], y = y_test[:,0], label = 'test')\n",
        "sns.lineplot(x = data.datas[train_size+dim:], y = y_pred_test[:,0], label = 'test pred')\n",
        "plt.xticks(rotation = 70)"
      ],
      "metadata": {
        "colab": {
          "base_uri": "https://localhost:8080/",
          "height": 362
        },
        "id": "HYof8nEg7sPs",
        "outputId": "bb02a47f-f08e-4be4-af03-8cff6906b968"
      },
      "execution_count": 58,
      "outputs": [
        {
          "output_type": "execute_result",
          "data": {
            "text/plain": [
              "(array([736269., 736283., 736299., 736313., 736330.]),\n",
              " <a list of 5 Text major ticklabel objects>)"
            ]
          },
          "metadata": {},
          "execution_count": 58
        },
        {
          "output_type": "display_data",
          "data": {
            "text/plain": [
              "<Figure size 432x288 with 1 Axes>"
            ],
            "image/png": "[encoded data removed]"
          },
          "metadata": {
            "needs_background": "light"
          }
        }
      ]
    },
    {
      "cell_type": "markdown",
      "source": [
        "Comparing the two"
      ],
      "metadata": {
        "id": "ELXYFFYs-h4S"
      }
    },
    {
      "cell_type": "code",
      "source": [
        "plt.plot(history.history['loss'])\n",
        "plt.plot(history.history['val_loss'])\n",
        "plt.title('LSTM training')"
      ],
      "metadata": {
        "colab": {
          "base_uri": "https://localhost:8080/",
          "height": 298
        },
        "id": "hY0BmR3x-mfZ",
        "outputId": "d019d24f-0cf9-4ae8-d906-7ba7689bbbe3"
      },
      "execution_count": 59,
      "outputs": [
        {
          "output_type": "execute_result",
          "data": {
            "text/plain": [
              "Text(0.5, 1.0, 'LSTM training')"
            ]
          },
          "metadata": {},
          "execution_count": 59
        },
        {
          "output_type": "display_data",
          "data": {
            "text/plain": [
              "<Figure size 432x288 with 1 Axes>"
            ],
            "image/png": "[encoded data removed]"
          },
          "metadata": {
            "needs_background": "light"
          }
        }
      ]
    },
    {
      "cell_type": "code",
      "source": [
        "plt.plot(history2.history['loss'])\n",
        "plt.plot(history2.history['val_loss'])\n",
        "plt.title('GRU training')"
      ],
      "metadata": {
        "colab": {
          "base_uri": "https://localhost:8080/",
          "height": 298
        },
        "id": "gKZRAPN5_BOO",
        "outputId": "9f431037-303d-41b0-e51e-c7c1f5b36fa6"
      },
      "execution_count": 60,
      "outputs": [
        {
          "output_type": "execute_result",
          "data": {
            "text/plain": [
              "Text(0.5, 1.0, 'GRU training')"
            ]
          },
          "metadata": {},
          "execution_count": 60
        },
        {
          "output_type": "display_data",
          "data": {
            "text/plain": [
              "<Figure size 432x288 with 1 Axes>"
            ],
            "image/png": "[encoded data removed]"
          },
          "metadata": {
            "needs_background": "light"
          }
        }
      ]
    }
  ]
}